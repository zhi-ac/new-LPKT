{
 "cells": [
  {
   "cell_type": "markdown",
   "metadata": {
    "collapsed": true,
    "pycharm": {
     "name": "#%% md\n"
    }
   },
   "source": [
    "# Deep Knowledge Tracing Plus (DKT+)\n",
    "\n",
    "This notebook will show you how to train and use the DKT+.\n",
    "First, we will show how to get the data (here we use a0910 as the dataset).\n",
    "Then we will show how to train a DKT+ and perform the parameters persistence.\n",
    "At last, we will show how to load the parameters from the file and evaluate on the test dataset.\n",
    "\n",
    "The script version could be found in [DKT+.py](DKT+.ipynb)"
   ]
  },
  {
   "cell_type": "markdown",
   "source": [
    "## Data Preparation\n",
    "\n",
    "Before we process the data, we need to first acquire the dataset which is shown in [prepare_dataset.ipynb](prepare_dataset.ipynb)"
   ],
   "metadata": {
    "collapsed": false
   }
  },
  {
   "cell_type": "code",
   "execution_count": 1,
   "outputs": [
    {
     "name": "stderr",
     "output_type": "stream",
     "text": [
      "reading data from ../../data/a0910c/train.json: 3966it [00:00, 25996.05it/s]\n",
      "batchify: 100%|██████████| 130/130 [00:00<00:00, 1372.38it/s]\n",
      "reading data from ../../data/a0910c/valid.json: 472it [00:00, 39390.19it/s]\n",
      "E:\\Program\\EduKTM\\EduKTM\\utils\\torch_utils\\extlib\\sampler.py:327: UserWarning: Some buckets are empty and will be removed. Unused bucket keys=[55, 58, 59, 61, 65, 69, 74, 76, 77, 79, 80, 88, 90, 94, 95, 96, 99]\n",
      "  warnings.warn('Some buckets are empty and will be removed. Unused bucket keys=%s' %\n",
      "batchify: 100%|██████████| 84/84 [00:00<00:00, 6005.04it/s]\n",
      "reading data from ../../data/a0910c/test.json: 1088it [00:00, 17315.92it/s]\n",
      "E:\\Program\\EduKTM\\EduKTM\\utils\\torch_utils\\extlib\\sampler.py:327: UserWarning: Some buckets are empty and will be removed. Unused bucket keys=[73, 88]\n",
      "  warnings.warn('Some buckets are empty and will be removed. Unused bucket keys=%s' %\n",
      "batchify: 100%|██████████| 101/101 [00:00<00:00, 3492.14it/s]\n"
     ]
    }
   ],
   "source": [
    "from EduKTM.DKTPlus import etl\n",
    "batch_size = 64\n",
    "train = etl(\"../../data/a0910c/train.json\", batch_size)\n",
    "valid = etl(\"../../data/a0910c/valid.json\", batch_size)\n",
    "test = etl(\"../../data/a0910c/test.json\", batch_size)"
   ],
   "metadata": {
    "collapsed": false,
    "pycharm": {
     "name": "#%%\n"
    }
   }
  },
  {
   "cell_type": "markdown",
   "source": [
    "## Training and Persistence"
   ],
   "metadata": {
    "collapsed": false,
    "pycharm": {
     "name": "#%% md\n"
    }
   }
  },
  {
   "cell_type": "code",
   "execution_count": 2,
   "outputs": [],
   "source": [
    "import logging\n",
    "logging.getLogger().setLevel(logging.INFO)"
   ],
   "metadata": {
    "collapsed": false,
    "pycharm": {
     "name": "#%%\n"
    }
   }
  },
  {
   "cell_type": "code",
   "execution_count": 3,
   "outputs": [
    {
     "name": "stderr",
     "output_type": "stream",
     "text": [
      "Epoch 0: 100%|██████████| 130/130 [00:06<00:00, 21.48it/s]\n",
      "evaluating: 100%|██████████| 84/84 [00:00<00:00, 193.61it/s]\n",
      "Epoch 1: 100%|██████████| 130/130 [00:05<00:00, 21.93it/s]\n",
      "evaluating: 100%|██████████| 84/84 [00:00<00:00, 199.11it/s]\n",
      "INFO:root:save parameters to dkt+.params\n"
     ]
    },
    {
     "name": "stdout",
     "output_type": "stream",
     "text": [
      "[Epoch 0] SLMoss: 0.553947\n",
      "[Epoch 0] auc: 0.661187, accuracy: 0.688492\n",
      "[Epoch 1] SLMoss: 0.278718\n",
      "[Epoch 1] auc: 0.672982, accuracy: 0.679581\n"
     ]
    }
   ],
   "source": [
    "from EduKTM import DKTPlus\n",
    "\n",
    "dkt_plus = DKTPlus(ku_num=146, hidden_num=100, loss_params={\"lr\": 0.1, \"lw1\": 0.5, \"lw2\": 0.5})\n",
    "dkt_plus.train(train, valid, epoch=2)\n",
    "dkt_plus.save(\"dkt+.params\")"
   ],
   "metadata": {
    "collapsed": false,
    "pycharm": {
     "name": "#%%\n"
    }
   }
  },
  {
   "cell_type": "markdown",
   "source": [
    "## Loading and Testing"
   ],
   "metadata": {
    "collapsed": false
   }
  },
  {
   "cell_type": "code",
   "execution_count": 4,
   "outputs": [
    {
     "name": "stderr",
     "output_type": "stream",
     "text": [
      "INFO:root:load parameters from dkt+.params\n",
      "evaluating: 100%|██████████| 101/101 [00:00<00:00, 129.17it/s]\n"
     ]
    },
    {
     "name": "stdout",
     "output_type": "stream",
     "text": [
      "auc: 0.681138, accuracy: 0.678663\n"
     ]
    }
   ],
   "source": [
    "dkt_plus.load(\"dkt+.params\")\n",
    "auc, accuracy = dkt_plus.eval(test)\n",
    "print(\"auc: %.6f, accuracy: %.6f\" % (auc, accuracy))"
   ],
   "metadata": {
    "collapsed": false,
    "pycharm": {
     "name": "#%%\n"
    }
   }
  }
 ],
 "metadata": {
  "kernelspec": {
   "display_name": "Python 3",
   "language": "python",
   "name": "python3"
  },
  "language_info": {
   "codemirror_mode": {
    "name": "ipython",
    "version": 2
   },
   "file_extension": ".py",
   "mimetype": "text/x-python",
   "name": "python",
   "nbconvert_exporter": "python",
   "pygments_lexer": "ipython2",
   "version": "2.7.6"
  }
 },
 "nbformat": 4,
 "nbformat_minor": 0
}