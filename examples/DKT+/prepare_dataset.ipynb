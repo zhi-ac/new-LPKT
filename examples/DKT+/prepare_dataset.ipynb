{
 "cells": [
  {
   "cell_type": "code",
   "execution_count": 12,
   "metadata": {
    "collapsed": true,
    "pycharm": {
     "name": "#%%\n"
    }
   },
   "outputs": [
    {
     "name": "stderr",
     "output_type": "stream",
     "text": [
      "downloader, INFO http://base.ustc.edu.cn/data/ktbd/a0910c/readme.txt is saved as ..\\..\\data\\a0910c\\readme.txt\n",
      "downloader, INFO http://base.ustc.edu.cn/data/ktbd/a0910c/test.json is saved as ..\\..\\data\\a0910c\\test.json\n",
      "downloader, INFO http://base.ustc.edu.cn/data/ktbd/a0910c/train.json is saved as ..\\..\\data\\a0910c\\train.json\n",
      "downloader, INFO http://base.ustc.edu.cn/data/ktbd/a0910c/valid.json is saved as ..\\..\\data\\a0910c\\valid.json\n"
     ]
    },
    {
     "name": "stdout",
     "output_type": "stream",
     "text": [
      "Downloading ..\\..\\data\\a0910c\\readme.txt 100.00%: 21 | 21\n",
      "Downloading ..\\..\\data\\a0910c\\test.json 100.00%: 477005 | 477005\n",
      "Downloading ..\\..\\data\\a0910c\\train.json 100.00%: 1807148 | 1807148\n",
      "Downloading ..\\..\\data\\a0910c\\valid.json 100.00%: 222345 | 222345\n"
     ]
    },
    {
     "data": {
      "text/plain": "'../../data'"
     },
     "execution_count": 12,
     "metadata": {},
     "output_type": "execute_result"
    }
   ],
   "source": [
    "from EduData import get_data\n",
    "\n",
    "get_data(\"ktbd-a0910c\", \"../../data\")"
   ]
  }
 ],
 "metadata": {
  "kernelspec": {
   "display_name": "Python 3",
   "language": "python",
   "name": "python3"
  },
  "language_info": {
   "codemirror_mode": {
    "name": "ipython",
    "version": 2
   },
   "file_extension": ".py",
   "mimetype": "text/x-python",
   "name": "python",
   "nbconvert_exporter": "python",
   "pygments_lexer": "ipython2",
   "version": "2.7.6"
  }
 },
 "nbformat": 4,
 "nbformat_minor": 0
}