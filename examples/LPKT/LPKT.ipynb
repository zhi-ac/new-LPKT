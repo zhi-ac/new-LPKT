{
 "cells": [
  {
   "cell_type": "markdown",
   "metadata": {
    "collapsed": true,
    "pycharm": {
     "name": "#%% md\n"
    }
   },
   "source": [
    "# Learning Process-consistent Knowledge Tracing(LPKT)\n",
    "\n",
    "This notebook will show you how to train and use the LPKT.\n",
    "First, we will show how to get the data (here we use assistment-2017 as the dataset).\n",
    "Then we will show how to train a LPKT and perform the parameters persistence.\n",
    "At last, we will show how to load the parameters from the file and evaluate on the test dataset.\n",
    "\n",
    "The script version could be found in [LPKT.py](LPKT.ipynb)"
   ]
  },
  {
   "cell_type": "markdown",
   "source": [
    "\n",
    "## Data Preparation\n",
    "\n",
    "Before we process the data, we need to first acquire the dataset which is shown in [prepare_dataset.ipynb](prepare_dataset.ipynb)"
   ],
   "metadata": {
    "collapsed": false
   }
  },
  {
   "cell_type": "code",
   "execution_count": 2,
   "outputs": [],
   "source": [
    "import numpy as np\n",
    "from load_data import DATA\n",
    "\n",
    "def generate_q_matrix(path, n_skill, n_problem, gamma=0):\n",
    "    with open(path, 'r', encoding='utf-8') as f:\n",
    "        for line in f:\n",
    "            problem2skill = eval(line)\n",
    "    q_matrix = np.zeros((n_problem + 1, n_skill + 1)) + gamma\n",
    "    for p in problem2skill.keys():\n",
    "        q_matrix[p][problem2skill[p]] = 1\n",
    "    return q_matrix\n",
    "\n",
    "batch_size = 32\n",
    "n_at = 1326\n",
    "n_it = 2839\n",
    "n_question = 102\n",
    "n_exercise = 3162\n",
    "seqlen = 500\n",
    "d_k = 128\n",
    "d_a = 50\n",
    "d_e = 128\n",
    "q_gamma = 0.03\n",
    "dropout = 0.2\n",
    "\n",
    "dat = DATA(seqlen=seqlen, separate_char=',')\n",
    "train_data = dat.load_data('../../data/anonymized_full_release_competition_dataset/train0.txt')\n",
    "test_data = dat.load_data('../../data/anonymized_full_release_competition_dataset/test.txt')\n",
    "q_matrix = generate_q_matrix(\n",
    "    '../../data/anonymized_full_release_competition_dataset/problem2skill',\n",
    "    n_question, n_exercise,\n",
    "    q_gamma\n",
    ")"
   ],
   "metadata": {
    "collapsed": false,
    "pycharm": {
     "name": "#%%\n"
    },
    "ExecuteTime": {
     "end_time": "2024-07-15T02:56:29.652690100Z",
     "start_time": "2024-07-15T02:56:25.031925300Z"
    }
   }
  },
  {
   "cell_type": "markdown",
   "source": [
    "## Training and Persistence"
   ],
   "metadata": {
    "collapsed": false,
    "pycharm": {
     "name": "#%% md\n"
    }
   }
  },
  {
   "cell_type": "code",
   "execution_count": 3,
   "outputs": [],
   "source": [
    "import logging\n",
    "logging.getLogger().setLevel(logging.INFO)"
   ],
   "metadata": {
    "collapsed": false,
    "pycharm": {
     "name": "#%%\n"
    },
    "ExecuteTime": {
     "end_time": "2024-07-15T02:56:33.438315100Z",
     "start_time": "2024-07-15T02:56:33.433325800Z"
    }
   }
  },
  {
   "cell_type": "code",
   "execution_count": 4,
   "outputs": [
    {
     "name": "stderr",
     "output_type": "stream",
     "text": [
      "Training: 100%|██████████| 240/240 [07:46<00:00,  1.94s/it]\n"
     ]
    },
    {
     "ename": "MemoryError",
     "evalue": "Unable to allocate 803. MiB for an array with shape (499, 32, 103, 128) and data type float32",
     "output_type": "error",
     "traceback": [
      "\u001B[0;31m---------------------------------------------------------------------------\u001B[0m",
      "\u001B[0;31mMemoryError\u001B[0m                               Traceback (most recent call last)",
      "Cell \u001B[0;32mIn[4], line 4\u001B[0m\n\u001B[1;32m      1\u001B[0m \u001B[38;5;28;01mfrom\u001B[39;00m \u001B[38;5;21;01mEduKTM\u001B[39;00m \u001B[38;5;28;01mimport\u001B[39;00m LPKT\n\u001B[1;32m      3\u001B[0m lpkt \u001B[38;5;241m=\u001B[39m LPKT(n_at, n_it, n_exercise, n_question, d_a, d_e, d_k, q_matrix, batch_size, dropout)\n\u001B[0;32m----> 4\u001B[0m \u001B[43mlpkt\u001B[49m\u001B[38;5;241;43m.\u001B[39;49m\u001B[43mtrain\u001B[49m\u001B[43m(\u001B[49m\u001B[43mtrain_data\u001B[49m\u001B[43m,\u001B[49m\u001B[43m \u001B[49m\u001B[43mtest_data\u001B[49m\u001B[43m,\u001B[49m\u001B[43m \u001B[49m\u001B[43mepoch\u001B[49m\u001B[38;5;241;43m=\u001B[39;49m\u001B[38;5;241;43m2\u001B[39;49m\u001B[43m,\u001B[49m\u001B[43m \u001B[49m\u001B[43mlr\u001B[49m\u001B[38;5;241;43m=\u001B[39;49m\u001B[38;5;241;43m0.003\u001B[39;49m\u001B[43m)\u001B[49m\n\u001B[1;32m      5\u001B[0m lpkt\u001B[38;5;241m.\u001B[39msave(\u001B[38;5;124m\"\u001B[39m\u001B[38;5;124mlpkt.params\u001B[39m\u001B[38;5;124m\"\u001B[39m)\n",
      "File \u001B[0;32m~/tmp/pycharm_project_187/EduKTM/LPKT/LPKT.py:145\u001B[0m, in \u001B[0;36mLPKT.train\u001B[0;34m(self, train_data, test_data, epoch, lr, lr_decay_step, lr_decay_rate)\u001B[0m\n\u001B[1;32m    143\u001B[0m train_skill_mastery_history \u001B[38;5;241m=\u001B[39m []  \u001B[38;5;66;03m# 用于保存训练过程中的技能掌握情况\u001B[39;00m\n\u001B[1;32m    144\u001B[0m \u001B[38;5;28;01mfor\u001B[39;00m idx \u001B[38;5;129;01min\u001B[39;00m \u001B[38;5;28mrange\u001B[39m(epoch):\n\u001B[0;32m--> 145\u001B[0m     train_loss, train_auc, train_accuracy, train_skill_mastery  \u001B[38;5;241m=\u001B[39m \u001B[43mtrain_one_epoch\u001B[49m\u001B[43m(\u001B[49m\u001B[38;5;28;43mself\u001B[39;49m\u001B[38;5;241;43m.\u001B[39;49m\u001B[43mlpkt_net\u001B[49m\u001B[43m,\u001B[49m\u001B[43m \u001B[49m\u001B[43moptimizer\u001B[49m\u001B[43m,\u001B[49m\u001B[43m \u001B[49m\u001B[43mcriterion\u001B[49m\u001B[43m,\u001B[49m\n\u001B[1;32m    146\u001B[0m \u001B[43m                                                            \u001B[49m\u001B[38;5;28;43mself\u001B[39;49m\u001B[38;5;241;43m.\u001B[39;49m\u001B[43mbatch_size\u001B[49m\u001B[43m,\u001B[49m\u001B[43m \u001B[49m\u001B[38;5;241;43m*\u001B[39;49m\u001B[43mtrain_data\u001B[49m\u001B[43m)\u001B[49m\n\u001B[1;32m    147\u001B[0m     train_skill_mastery_history\u001B[38;5;241m.\u001B[39mappend(train_skill_mastery)  \u001B[38;5;66;03m# 记录训练过程中的技能掌握情况\u001B[39;00m\n\u001B[1;32m    148\u001B[0m     \u001B[38;5;28mprint\u001B[39m(\u001B[38;5;124m\"\u001B[39m\u001B[38;5;124m[Epoch \u001B[39m\u001B[38;5;132;01m%d\u001B[39;00m\u001B[38;5;124m] LogisticLoss: \u001B[39m\u001B[38;5;132;01m%.6f\u001B[39;00m\u001B[38;5;124m\"\u001B[39m \u001B[38;5;241m%\u001B[39m (idx, train_loss))\n",
      "File \u001B[0;32m~/tmp/pycharm_project_187/EduKTM/LPKT/LPKT.py:86\u001B[0m, in \u001B[0;36mtrain_one_epoch\u001B[0;34m(net, optimizer, criterion, batch_size, a_data, e_data, it_data, at_data)\u001B[0m\n\u001B[1;32m     83\u001B[0m auc \u001B[38;5;241m=\u001B[39m compute_auc(all_target, all_pred)\n\u001B[1;32m     84\u001B[0m accuracy \u001B[38;5;241m=\u001B[39m compute_accuracy(all_target, all_pred)\n\u001B[0;32m---> 86\u001B[0m skill_mastery_epoch \u001B[38;5;241m=\u001B[39m \u001B[43mnp\u001B[49m\u001B[38;5;241;43m.\u001B[39;49m\u001B[43mconcatenate\u001B[49m\u001B[43m(\u001B[49m\u001B[43mskill_mastery_epoch\u001B[49m\u001B[43m,\u001B[49m\u001B[43m \u001B[49m\u001B[43maxis\u001B[49m\u001B[38;5;241;43m=\u001B[39;49m\u001B[38;5;241;43m0\u001B[39;49m\u001B[43m)\u001B[49m\n\u001B[1;32m     88\u001B[0m \u001B[38;5;28;01mreturn\u001B[39;00m loss, auc, accuracy, skill_mastery_epoch\n",
      "File \u001B[0;32m<__array_function__ internals>:180\u001B[0m, in \u001B[0;36mconcatenate\u001B[0;34m(*args, **kwargs)\u001B[0m\n",
      "\u001B[0;31mMemoryError\u001B[0m: Unable to allocate 803. MiB for an array with shape (499, 32, 103, 128) and data type float32"
     ]
    }
   ],
   "source": [
    "from EduKTM import LPKT\n",
    "\n",
    "lpkt = LPKT(n_at, n_it, n_exercise, n_question, d_a, d_e, d_k, q_matrix, batch_size, dropout)\n",
    "lpkt.train(train_data, test_data, epoch=2, lr=0.003)\n",
    "lpkt.save(\"lpkt.params\")"
   ],
   "metadata": {
    "collapsed": false,
    "pycharm": {
     "name": "#%%\n"
    },
    "ExecuteTime": {
     "end_time": "2024-07-15T03:21:25.409310100Z",
     "start_time": "2024-07-15T02:56:37.206264600Z"
    }
   }
  },
  {
   "cell_type": "markdown",
   "source": [
    "## Loading and Testing"
   ],
   "metadata": {
    "collapsed": false,
    "pycharm": {
     "name": "#%% md\n"
    }
   }
  },
  {
   "cell_type": "code",
   "execution_count": 4,
   "outputs": [
    {
     "name": "stderr",
     "output_type": "stream",
     "text": [
      "INFO:root:load parameters from lpkt.params\n",
      "Testing: 100%|██████████| 26/26 [01:18<00:00,  3.04s/it]"
     ]
    },
    {
     "name": "stdout",
     "output_type": "stream",
     "text": [
      "auc: 0.717543, accuracy: 0.682427\n"
     ]
    },
    {
     "name": "stderr",
     "output_type": "stream",
     "text": [
      "\n"
     ]
    }
   ],
   "source": [
    "lpkt.load(\"lpkt.params\")\n",
    "_, auc, accuracy = lpkt.eval(test_data)\n",
    "print(\"auc: %.6f, accuracy: %.6f\" % (auc, accuracy))"
   ],
   "metadata": {
    "collapsed": false,
    "pycharm": {
     "name": "#%%\n"
    }
   }
  }
 ],
 "metadata": {
  "kernelspec": {
   "display_name": "Python 3",
   "language": "python",
   "name": "python3"
  },
  "language_info": {
   "codemirror_mode": {
    "name": "ipython",
    "version": 2
   },
   "file_extension": ".py",
   "mimetype": "text/x-python",
   "name": "python",
   "nbconvert_exporter": "python",
   "pygments_lexer": "ipython2",
   "version": "2.7.6"
  }
 },
 "nbformat": 4,
 "nbformat_minor": 0
}
